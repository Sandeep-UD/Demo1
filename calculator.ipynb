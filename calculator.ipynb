version https://git-lfs.github.com/spec/v1
oid sha256:38d8fec6066c003390ff60185e812b71577468c3ed5f8f7bc81aa534b41e3e07
size 2215
